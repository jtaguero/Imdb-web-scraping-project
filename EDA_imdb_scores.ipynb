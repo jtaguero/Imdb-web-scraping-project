{
 "cells": [
  {
   "cell_type": "code",
   "execution_count": 2,
   "metadata": {
    "collapsed": true
   },
   "outputs": [],
   "source": [
    "import psycopg2 as pg2\n",
    "from psycopg2 import extras\n",
    "import pandas as pd"
   ]
  },
  {
   "cell_type": "code",
   "execution_count": 53,
   "metadata": {
    "collapsed": true
   },
   "outputs": [],
   "source": [
    "def query(sql):\n",
    "#     \"\"\" insert a new row into the imdb2018 table \"\"\"\n",
    "    result = []\n",
    "    conn = None\n",
    "    \n",
    "    try:\n",
    "        connection = pg2.connect(user = \"johnaguero\",\n",
    "                                      password = \"torTuosity2\",\n",
    "                                      host = \"127.0.0.1\",\n",
    "                                      port = \"5432\",\n",
    "                                      database = \"films\")\n",
    "        c = connection.cursor()\n",
    "        \n",
    "\n",
    "        c.execute(sql) \n",
    "        connection.commit()\n",
    "        \n",
    "        result = c.fetchall()\n",
    "        \n",
    "    except (Exception, pg2.Error) as error :\n",
    "        if(connection):\n",
    "            print(\"Query failed\")\n",
    "    finally:\n",
    "        #closing database connection.\n",
    "        if(connection):\n",
    "            c.close()\n",
    "            connection.close()\n",
    "    return result        "
   ]
  },
  {
   "cell_type": "code",
   "execution_count": 119,
   "metadata": {
    "collapsed": true
   },
   "outputs": [],
   "source": [
    "sql1 = \"\"\"SELECT metascore\n",
    "\n",
    "FROM\n",
    "    imdb2018\n",
    "ORDER BY\n",
    "    imdb_num\n",
    "\n",
    "FETCH NEXT 50 ROWS ONLY;\"\"\"\n",
    "\n",
    "\n",
    "sql2 = \"\"\"SELECT Count(*) from imdb2018 where imdb_score is NULL;\"\"\"\n",
    "\n",
    "sql3 = \"\"\"SELECT Count(*) from imdb2018 where metascore is NULL;\"\"\"\n",
    "\n",
    "sql4 = \"\"\"SELECT imdb_num, metascore, imdb_score from imdb2018 where metascore is NOT NULL;\"\"\"\n",
    "\n",
    "sql5 = \"\"\"SELECT imdb_score FROM imdb2018 WHERE imdb_score is NOT NULL;\"\"\"\n",
    "sql6 = \"\"\"SELECT imdb_score, Votes from imdb2018 WHERE Votes is NOT NULL;\"\"\""
   ]
  },
  {
   "cell_type": "code",
   "execution_count": 50,
   "metadata": {},
   "outputs": [
    {
     "data": {
      "text/plain": [
       "'[(None,), (None,), (67,), (None,), (None,), (87,), (68,), (None,), (86,), (None,), (87,), (88,), (66,), (None,), (87,), (74,), (90,), (69,), (82,), (66,), (None,), (65,), (67,), (84,), (88,), (None,), (62,), (84,), (81,), (None,), (83,), (64,), (None,), (79,), (64,), (64,), (64,), (67,), (77,), (None,), (71,), (87,), (None,), (61,), (None,), (None,), (None,), (None,), (76,), (67,)]'"
      ]
     },
     "execution_count": 50,
     "metadata": {},
     "output_type": "execute_result"
    }
   ],
   "source": [
    "first_rows = query(sql1)\n",
    "str(first_rows)\n"
   ]
  },
  {
   "cell_type": "code",
   "execution_count": 49,
   "metadata": {},
   "outputs": [
    {
     "data": {
      "text/plain": [
       "0.3527"
      ]
     },
     "execution_count": 49,
     "metadata": {},
     "output_type": "execute_result"
    }
   ],
   "source": [
    "iscore_null_count = query(sql2)\n",
    "iscore_null_count[0][0]/ 10000"
   ]
  },
  {
   "cell_type": "code",
   "execution_count": 56,
   "metadata": {},
   "outputs": [
    {
     "data": {
      "text/plain": [
       "9413"
      ]
     },
     "execution_count": 56,
     "metadata": {},
     "output_type": "execute_result"
    }
   ],
   "source": [
    "mscore_null_count = query(sql3)\n",
    "mscore_null_count[0][0] "
   ]
  },
  {
   "cell_type": "code",
   "execution_count": 70,
   "metadata": {},
   "outputs": [
    {
     "data": {
      "text/plain": [
       "[6.8,\n",
       " 8.4,\n",
       " 8.5,\n",
       " 7.8,\n",
       " 7.1,\n",
       " 7.7,\n",
       " 7.7,\n",
       " 7.3,\n",
       " 6.9,\n",
       " 7.6,\n",
       " 8.2,\n",
       " 7.5,\n",
       " 6.8,\n",
       " 6.6,\n",
       " 6.4,\n",
       " 7.3,\n",
       " 7.3,\n",
       " 7.0,\n",
       " 6.9,\n",
       " 6.6,\n",
       " 7.5,\n",
       " 7.5,\n",
       " 6.9,\n",
       " 7.6,\n",
       " 5.8,\n",
       " 6.8,\n",
       " 6.6,\n",
       " 5.9,\n",
       " 7.1,\n",
       " 6.5,\n",
       " 7.2,\n",
       " 7.2,\n",
       " 7.2,\n",
       " 7.3,\n",
       " 6.8,\n",
       " 7.0,\n",
       " 6.2,\n",
       " 6.8,\n",
       " 7.7,\n",
       " 7.0,\n",
       " 8.5,\n",
       " 7.4,\n",
       " 7.2,\n",
       " 7.3,\n",
       " 7.1,\n",
       " 6.7,\n",
       " 7.0,\n",
       " 7.7,\n",
       " 7.0,\n",
       " 7.1,\n",
       " 7.5,\n",
       " 7.3,\n",
       " 6.9,\n",
       " 7.2,\n",
       " 7.8,\n",
       " 6.2,\n",
       " 7.6,\n",
       " 7.6,\n",
       " 6.3,\n",
       " 7.4,\n",
       " 6.9,\n",
       " 7.9,\n",
       " 7.2,\n",
       " 7.0,\n",
       " 5.2,\n",
       " 8.0,\n",
       " 7.7,\n",
       " 7.2,\n",
       " 6.2,\n",
       " 7.3,\n",
       " 5.5,\n",
       " 5.6,\n",
       " 7.5,\n",
       " 7.4,\n",
       " 6.6,\n",
       " 6.3,\n",
       " 7.0,\n",
       " 7.0,\n",
       " 6.0,\n",
       " 6.9,\n",
       " 6.7,\n",
       " 6.1,\n",
       " 6.8,\n",
       " 5.5,\n",
       " 7.2,\n",
       " 6.7,\n",
       " 6.4,\n",
       " 6.7,\n",
       " 6.5,\n",
       " 6.9,\n",
       " 7.0,\n",
       " 7.0,\n",
       " 6.5,\n",
       " 5.6,\n",
       " 6.4,\n",
       " 6.2,\n",
       " 7.6,\n",
       " 6.7,\n",
       " 6.6,\n",
       " 7.2,\n",
       " 6.2,\n",
       " 5.8,\n",
       " 6.7,\n",
       " 6.7,\n",
       " 6.7,\n",
       " 7.3,\n",
       " 7.0,\n",
       " 6.8,\n",
       " 7.4,\n",
       " 6.1,\n",
       " 7.3,\n",
       " 5.8,\n",
       " 5.5,\n",
       " 6.0,\n",
       " 7.6,\n",
       " 7.3,\n",
       " 7.2,\n",
       " 6.7,\n",
       " 5.6,\n",
       " 8.1,\n",
       " 7.1,\n",
       " 6.7,\n",
       " 5.8,\n",
       " 6.5,\n",
       " 6.3,\n",
       " 5.5,\n",
       " 5.7,\n",
       " 7.0,\n",
       " 6.4,\n",
       " 6.4,\n",
       " 6.7,\n",
       " 6.3,\n",
       " 5.6,\n",
       " 6.1,\n",
       " 7.1,\n",
       " 6.2,\n",
       " 7.6,\n",
       " 5.6,\n",
       " 7.2,\n",
       " 7.3,\n",
       " 6.1,\n",
       " 6.9,\n",
       " 6.3,\n",
       " 6.6,\n",
       " 7.0,\n",
       " 6.9,\n",
       " 6.4,\n",
       " 7.4,\n",
       " 6.4,\n",
       " 5.7,\n",
       " 7.0,\n",
       " 6.5,\n",
       " 6.9,\n",
       " 6.2,\n",
       " 7.8,\n",
       " 5.3,\n",
       " 5.5,\n",
       " 4.5,\n",
       " 7.5,\n",
       " 7.0,\n",
       " 6.7,\n",
       " 6.9,\n",
       " 6.9,\n",
       " 6.4,\n",
       " 5.9,\n",
       " 7.1,\n",
       " 6.3,\n",
       " 6.6,\n",
       " 7.3,\n",
       " 6.5,\n",
       " 6.4,\n",
       " 7.5,\n",
       " 6.4,\n",
       " 5.1,\n",
       " 4.7,\n",
       " 6.8,\n",
       " 7.0,\n",
       " 6.4,\n",
       " 6.2,\n",
       " 6.0,\n",
       " 6.5,\n",
       " 7.1,\n",
       " 6.0,\n",
       " 6.0,\n",
       " 6.5,\n",
       " 6.2,\n",
       " 6.1,\n",
       " 7.0,\n",
       " 6.7,\n",
       " 6.8,\n",
       " 5.9,\n",
       " 6.2,\n",
       " 7.2,\n",
       " 5.8,\n",
       " 6.4,\n",
       " 7.0,\n",
       " 7.3,\n",
       " 6.8,\n",
       " 4.8,\n",
       " 6.0,\n",
       " 6.9,\n",
       " 6.6,\n",
       " 7.1,\n",
       " 5.6,\n",
       " 6.2,\n",
       " 6.8,\n",
       " 6.7,\n",
       " 6.9,\n",
       " 6.2,\n",
       " 6.9,\n",
       " 6.1,\n",
       " 5.7,\n",
       " 7.0,\n",
       " 7.1,\n",
       " 6.0,\n",
       " 6.9,\n",
       " 8.0,\n",
       " 6.4,\n",
       " 7.4,\n",
       " 6.5,\n",
       " 6.7,\n",
       " 7.9,\n",
       " 6.8,\n",
       " 7.0,\n",
       " 5.5,\n",
       " 5.7,\n",
       " 5.5,\n",
       " 4.8,\n",
       " 7.3,\n",
       " 6.5,\n",
       " 6.8,\n",
       " 6.8,\n",
       " 6.3,\n",
       " 7.2,\n",
       " 6.2,\n",
       " 6.4,\n",
       " 5.3,\n",
       " 7.2,\n",
       " 5.9,\n",
       " 6.8,\n",
       " 5.7,\n",
       " 7.3,\n",
       " 7.4,\n",
       " 5.7,\n",
       " 5.8,\n",
       " 4.4,\n",
       " 6.4,\n",
       " 6.6,\n",
       " 5.8,\n",
       " 6.8,\n",
       " 7.4,\n",
       " 6.9,\n",
       " 7.1,\n",
       " 6.3,\n",
       " 6.2,\n",
       " 7.2,\n",
       " 5.8,\n",
       " 6.3,\n",
       " 5.8,\n",
       " 6.8,\n",
       " 6.1,\n",
       " 6.9,\n",
       " 7.1,\n",
       " 5.0,\n",
       " 4.6,\n",
       " 6.9,\n",
       " 5.9,\n",
       " 7.4,\n",
       " 5.6,\n",
       " 5.2,\n",
       " 5.3,\n",
       " 5.7,\n",
       " 6.7,\n",
       " 7.4,\n",
       " 6.4,\n",
       " 6.8,\n",
       " 7.4,\n",
       " 6.6,\n",
       " 6.3,\n",
       " 6.9,\n",
       " 7.2,\n",
       " 6.9,\n",
       " 6.5,\n",
       " 6.1,\n",
       " 7.2,\n",
       " 7.1,\n",
       " 5.5]"
      ]
     },
     "execution_count": 70,
     "metadata": {},
     "output_type": "execute_result"
    }
   ],
   "source": [
    "metascore_pk_nnull = query(sql4)\n",
    "metascore_pk_nnull[0][1]\n",
    "metascores = [metascore_pk_nnull[i][1] for i in range(len(metascore_pk_nnull))]\n",
    "metascores\n",
    "imdb_scores = [metascore_pk_nnull[i][2] for i in range(len(metascore_pk_nnull))]\n",
    "imdb_scores"
   ]
  },
  {
   "cell_type": "code",
   "execution_count": 82,
   "metadata": {},
   "outputs": [
    {
     "data": {
      "image/png": "[encoded data removed]",
      "text/plain": [
       "<matplotlib.figure.Figure at 0x117dfdc88>"
      ]
     },
     "metadata": {},
     "output_type": "display_data"
    }
   ],
   "source": [
    "import numpy as np\n",
    "\n",
    "import matplotlib.pyplot as plt\n",
    "\n",
    "# example data\n",
    "mu = 100 # mean of distribution\n",
    "sigma = 15 # standard deviation of distributionx = mu + sigma * np.random.randn(10000)\n",
    "\n",
    "num_bins = 20\n",
    "# the histogram of the data\n",
    "plt.hist(metascores, num_bins, normed=1, facecolor='k', alpha=0.5)\n",
    "\n",
    "\n",
    "\n",
    "plt.xlabel('Metascores')\n",
    "plt.ylabel('Probability')\n",
    "plt.title(r'Histogram Metascores: $\\mu=100$, $\\sigma=15$')\n",
    "\n",
    "# Tweak spacing to prevent clipping of ylabel\n",
    "plt.subplots_adjust(left=0.15)\n",
    "plt.show()"
   ]
  },
  {
   "cell_type": "code",
   "execution_count": null,
   "metadata": {
    "collapsed": true
   },
   "outputs": [],
   "source": []
  },
  {
   "cell_type": "code",
   "execution_count": 105,
   "metadata": {},
   "outputs": [
    {
     "data": {
      "image/png": "[encoded data removed]",
      "text/plain": [
       "<matplotlib.figure.Figure at 0x11d482198>"
      ]
     },
     "metadata": {},
     "output_type": "display_data"
    }
   ],
   "source": [
    "import numpy as np\n",
    "\n",
    "import matplotlib.pyplot as plt\n",
    "\n",
    "# example data\n",
    "# mu =  # mean of distribution\n",
    "# sigma =  # standard deviation of distributionx = mu + sigma * np.random.randn(10000)\n",
    "\n",
    "num_bins = 20\n",
    "# the histogram of the data\n",
    "plt.hist(imdb_scores, num_bins,  normed=1, facecolor='blue', alpha=0.5)\n",
    "\n",
    "\n",
    "\n",
    "plt.xlabel('Imdb Scores')\n",
    "plt.ylabel('Probability')\n",
    "plt.title(r'Histogram of Imdb Scores: $\\mu=100$, $\\sigma=15$')\n",
    "\n",
    "# Tweak spacing to prevent clipping of ylabel\n",
    "plt.subplots_adjust(left=0.15)\n",
    "plt.show()"
   ]
  },
  {
   "cell_type": "code",
   "execution_count": 120,
   "metadata": {},
   "outputs": [
    {
     "data": {
      "text/plain": [
       "(6173, 6173)"
      ]
     },
     "execution_count": 120,
     "metadata": {},
     "output_type": "execute_result"
    }
   ],
   "source": [
    "ALL_imdb_scores = query(sql5)\n",
    "imdbsc_nnvotes = query(sql6)\n",
    "len(ALL_imdb_scores), len(imdbsc_nnvotes)"
   ]
  },
  {
   "cell_type": "code",
   "execution_count": 121,
   "metadata": {},
   "outputs": [],
   "source": [
    "a_imdbscs = [ALL_imdb_scores[i][0] for i in range(len(ALL_imdb_scores))]"
   ]
  },
  {
   "cell_type": "code",
   "execution_count": null,
   "metadata": {
    "collapsed": true
   },
   "outputs": [],
   "source": []
  },
  {
   "cell_type": "code",
   "execution_count": 99,
   "metadata": {},
   "outputs": [],
   "source": [
    "m_array = np.asarray(metascores)"
   ]
  },
  {
   "cell_type": "code",
   "execution_count": null,
   "metadata": {},
   "outputs": [],
   "source": []
  },
  {
   "cell_type": "code",
   "execution_count": 100,
   "metadata": {},
   "outputs": [
    {
     "data": {
      "image/png": "[encoded data removed]",
      "text/plain": [
       "<matplotlib.figure.Figure at 0x11d528320>"
      ]
     },
     "metadata": {},
     "output_type": "display_data"
    }
   ],
   "source": [
    "\n",
    "from statsmodels.graphics.gofplots import qqplot\n",
    "from matplotlib import pyplot\n",
    "\n",
    "# q-q plot\n",
    "qqplot(m_array, line='s')\n",
    "pyplot.show()\n",
    " \n"
   ]
  },
  {
   "cell_type": "code",
   "execution_count": 101,
   "metadata": {},
   "outputs": [
    {
     "data": {
      "image/png": "[encoded data removed]",
      "text/plain": [
       "<matplotlib.figure.Figure at 0x11d52fef0>"
      ]
     },
     "metadata": {},
     "output_type": "display_data"
    }
   ],
   "source": [
    "#### # QQ Plot\n",
    "from numpy.random import seed\n",
    "from numpy.random import randn\n",
    "from statsmodels.graphics.gofplots import qqplot\n",
    "from matplotlib import pyplot\n",
    "\n",
    "# q-q plot\n",
    "qqplot(np.asarray(imdb_scores), line='s')\n",
    "pyplot.show()\n",
    " "
   ]
  },
  {
   "cell_type": "code",
   "execution_count": 102,
   "metadata": {},
   "outputs": [
    {
     "name": "stdout",
     "output_type": "stream",
     "text": [
      "Statistics=0.943, p=0.000\n",
      "Sample does not look Gaussian (reject H0)\n"
     ]
    }
   ],
   "source": [
    "from scipy.stats import shapiro\n",
    "# seed the random number generator\n",
    "\n",
    "stat, p = shapiro(np.asarray(metascores))\n",
    "print('Statistics=%.3f, p=%.3f' % (stat, p))\n",
    "# interpret\n",
    "alpha = 0.05\n",
    "if p > alpha:\n",
    "\tprint('Sample looks Gaussian (fail to reject H0)')\n",
    "else:\n",
    "\tprint('Sample does not look Gaussian (reject H0)')"
   ]
  },
  {
   "cell_type": "code",
   "execution_count": 103,
   "metadata": {},
   "outputs": [
    {
     "name": "stdout",
     "output_type": "stream",
     "text": [
      "Statistics=0.983, p=0.002\n",
      "Sample does not look Gaussian (reject H0)\n"
     ]
    }
   ],
   "source": [
    "from scipy.stats import shapiro\n",
    "# seed the random number generator\n",
    "\n",
    "stat, p = shapiro(np.asarray(imdb_scores))\n",
    "print('Statistics=%.3f, p=%.3f' % (stat, p))\n",
    "# interpret\n",
    "alpha = 0.05\n",
    "if p > alpha:\n",
    "\tprint('Sample looks Gaussian (fail to reject H0)')\n",
    "else:\n",
    "\tprint('Sample does not look Gaussian (reject H0)')"
   ]
  },
  {
   "cell_type": "code",
   "execution_count": 116,
   "metadata": {},
   "outputs": [
    {
     "name": "stdout",
     "output_type": "stream",
     "text": [
      "Statistics=0.983, p=0.002\n",
      "Sample does not look Gaussian (reject H0)\n"
     ]
    }
   ],
   "source": [
    "from scipy.stats import shapiro\n",
    "# seed the random number generator\n",
    "\n",
    "stat, p = shapiro(np.asarray(imdb_scores))\n",
    "print('Statistics=%.3f, p=%.3f' % (stat, p))\n",
    "# interpret\n",
    "alpha = 0.05\n",
    "if p > alpha:\n",
    "\tprint('Sample looks Gaussian (fail to reject H0)')\n",
    "else:\n",
    "\tprint('Sample does not look Gaussian (reject H0)')"
   ]
  },
  {
   "cell_type": "code",
   "execution_count": 122,
   "metadata": {},
   "outputs": [],
   "source": [
    "n_iscores = np.asarray(a_imdbscs)"
   ]
  },
  {
   "cell_type": "code",
   "execution_count": 123,
   "metadata": {},
   "outputs": [
    {
     "name": "stdout",
     "output_type": "stream",
     "text": [
      "Statistics=0.980, p=0.000\n",
      "Sample does not look Gaussian (reject H0)\n"
     ]
    },
    {
     "name": "stderr",
     "output_type": "stream",
     "text": [
      "/Users/johnaguero/anaconda3/lib/python3.6/site-packages/scipy/stats/morestats.py:1326: UserWarning: p-value may not be accurate for N > 5000.\n",
      "  warnings.warn(\"p-value may not be accurate for N > 5000.\")\n"
     ]
    }
   ],
   "source": [
    "from scipy.stats import shapiro\n",
    "# seed the random number generator\n",
    "\n",
    "stat, p = shapiro(n_iscores)\n",
    "print('Statistics=%.3f, p=%.3f' % (stat, p))\n",
    "# interpret\n",
    "alpha = 0.05\n",
    "if p > alpha:\n",
    "\tprint('Sample looks Gaussian (fail to reject H0)')\n",
    "else:\n",
    "\tprint('Sample does not look Gaussian (reject H0)')"
   ]
  },
  {
   "cell_type": "code",
   "execution_count": 124,
   "metadata": {},
   "outputs": [
    {
     "name": "stdout",
     "output_type": "stream",
     "text": [
      "Statistics=256.811, p=0.000\n",
      "Sample does not look Gaussian (reject H0)\n"
     ]
    }
   ],
   "source": [
    "\n",
    "# D'Agostino and Pearson's Test\n",
    "\n",
    "from scipy.stats import normaltest\n",
    "# seed the random number generator\n",
    "\n",
    "stat, p = normaltest(n_iscores)\n",
    "print('Statistics=%.3f, p=%.3f' % (stat, p))\n",
    "# interpret\n",
    "alpha = 0.05\n",
    "if p > alpha:\n",
    "\tprint('Sample looks Gaussian (fail to reject H0)')\n",
    "else:\n",
    "\tprint('Sample does not look Gaussian (reject H0)')"
   ]
  },
  {
   "cell_type": "code",
   "execution_count": 125,
   "metadata": {},
   "outputs": [
    {
     "name": "stdout",
     "output_type": "stream",
     "text": [
      "Statistics=21.309, p=0.000\n",
      "Sample does not look Gaussian (reject H0)\n"
     ]
    }
   ],
   "source": [
    "\n",
    "# D'Agostino and Pearson's Test\n",
    "\n",
    "from scipy.stats import normaltest\n",
    "# seed the random number generator\n",
    "\n",
    "stat, p = normaltest(np.asarray(metascores))\n",
    "print('Statistics=%.3f, p=%.3f' % (stat, p))\n",
    "# interpret\n",
    "alpha = 0.05\n",
    "if p > alpha:\n",
    "\tprint('Sample looks Gaussian (fail to reject H0)')\n",
    "else:\n",
    "\tprint('Sample does not look Gaussian (reject H0)')"
   ]
  },
  {
   "cell_type": "code",
   "execution_count": 127,
   "metadata": {},
   "outputs": [
    {
     "ename": "NameError",
     "evalue": "name 'm' is not defined",
     "output_type": "error",
     "traceback": [
      "\u001b[0;31m---------------------------------------------------------------------------\u001b[0m",
      "\u001b[0;31mNameError\u001b[0m                                 Traceback (most recent call last)",
      "\u001b[0;32m<ipython-input-127-0d06d2f8bd15>\u001b[0m in \u001b[0;36m<module>\u001b[0;34m()\u001b[0m\n\u001b[1;32m      5\u001b[0m \u001b[0;31m# seed the random number generator\u001b[0m\u001b[0;34m\u001b[0m\u001b[0;34m\u001b[0m\u001b[0m\n\u001b[1;32m      6\u001b[0m \u001b[0;34m\u001b[0m\u001b[0m\n\u001b[0;32m----> 7\u001b[0;31m \u001b[0mstat\u001b[0m\u001b[0;34m,\u001b[0m \u001b[0mp\u001b[0m \u001b[0;34m=\u001b[0m \u001b[0mnormaltest\u001b[0m\u001b[0;34m(\u001b[0m\u001b[0mnp\u001b[0m\u001b[0;34m.\u001b[0m\u001b[0masarray\u001b[0m\u001b[0;34m(\u001b[0m\u001b[0mimdb_scores\u001b[0m\u001b[0;34m)\u001b[0m\u001b[0;34m,\u001b[0m \u001b[0mm\u001b[0m\u001b[0;34m)\u001b[0m\u001b[0;34m\u001b[0m\u001b[0m\n\u001b[0m\u001b[1;32m      8\u001b[0m \u001b[0mprint\u001b[0m\u001b[0;34m(\u001b[0m\u001b[0;34m'Statistics=%.3f, p=%.3f'\u001b[0m \u001b[0;34m%\u001b[0m \u001b[0;34m(\u001b[0m\u001b[0mstat\u001b[0m\u001b[0;34m,\u001b[0m \u001b[0mp\u001b[0m\u001b[0;34m)\u001b[0m\u001b[0;34m)\u001b[0m\u001b[0;34m\u001b[0m\u001b[0m\n\u001b[1;32m      9\u001b[0m \u001b[0;31m# interpret\u001b[0m\u001b[0;34m\u001b[0m\u001b[0;34m\u001b[0m\u001b[0m\n",
      "\u001b[0;31mNameError\u001b[0m: name 'm' is not defined"
     ]
    }
   ],
   "source": [
    "\n",
    "# D'Agostino and Pearson's Test\n",
    "\n",
    "from scipy.stats import normaltest\n",
    "# seed the random number generator\n",
    "\n",
    "stat, p = normaltest(np.asarray(imdb_scores), m)\n",
    "print('Statistics=%.3f, p=%.3f' % (stat, p))\n",
    "# interpret\n",
    "alpha = 0.05\n",
    "if p > alpha:\n",
    "\tprint('Sample looks Gaussian (fail to reject H0)')\n",
    "else:\n",
    "\tprint('Sample does not look Gaussian (reject H0)')"
   ]
  },
  {
   "cell_type": "code",
   "execution_count": null,
   "metadata": {
    "collapsed": true
   },
   "outputs": [],
   "source": []
  },
  {
   "cell_type": "raw",
   "metadata": {},
   "source": []
  },
  {
   "cell_type": "code",
   "execution_count": 136,
   "metadata": {},
   "outputs": [
    {
     "name": "stdout",
     "output_type": "stream",
     "text": [
      "0.0 8.28616492986e-96\n"
     ]
    }
   ],
   "source": [
    "#Nonparametric Statistical Hypothesis Tests\n",
    "# Mann-Whitney U Test\n",
    "# Tests whether the distributions of two independent samples are equal or not.\n",
    "\n",
    "# Assumptions\n",
    "\n",
    "# Observations in each sample are independent and identically distributed (iid).\n",
    "# Observations in each sample can be ranked.\n",
    "# Interpretation\n",
    "\n",
    "# H0: the distributions of both samples are equal.\n",
    "# H1: the distributions of both samples are not equal.\n",
    "\n",
    "\n",
    "from scipy.stats import mannwhitneyu\n",
    "\n",
    "stat, p = mannwhitneyu(np.asarray(imdb_scores), np.asarray(metascores), alternative='less')\n",
    "\n",
    "print(stat, p)"
   ]
  }
 ],
 "metadata": {
  "kernelspec": {
   "display_name": "Python 3",
   "language": "python",
   "name": "python3"
  },
  "language_info": {
   "codemirror_mode": {
    "name": "ipython",
    "version": 3
   },
   "file_extension": ".py",
   "mimetype": "text/x-python",
   "name": "python",
   "nbconvert_exporter": "python",
   "pygments_lexer": "ipython3",
   "version": "3.6.1"
  }
 },
 "nbformat": 4,
 "nbformat_minor": 2
}
