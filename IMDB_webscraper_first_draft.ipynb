{
 "cells": [
  {
   "cell_type": "code",
   "execution_count": 1,
   "metadata": {
    "collapsed": true
   },
   "outputs": [],
   "source": [
    "# https://www.imdb.com/search/title/?title_type=feature&release_date=2018-01-01,2018-12-31\n",
    "\n",
    "    \n",
    "# https://www.imdb.com/search/title/?title_type=feature&release_date=2018-01-01,2018-12-31&start=51&ref_=adv_nxt\n",
    "    \n",
    "# https://www.imdb.com/search/title/?title_type=feature&release_date=2018-01-01,2018-12-31&start=101&ref_=adv_nxt    "
   ]
  },
  {
   "cell_type": "code",
   "execution_count": 1,
   "metadata": {},
   "outputs": [
    {
     "name": "stdout",
     "output_type": "stream",
     "text": [
      "\n",
      "\n",
      "\n",
      "<!DOCTYPE html>\n",
      "<html\n",
      "    xmlns:og=\"http://ogp.me/ns#\"\n",
      "    xmlns:fb=\"http://www.facebook.com/2008/fbml\">\n",
      "    <head>\n",
      "         \n",
      "        <meta charset=\"utf-8\">\n",
      "        <meta http-equiv=\"X-UA-Compatible\" content=\"IE=edge\">\n",
      "\n",
      "    <meta name=\"apple-itunes-app\" content=\"app-id=342792525, app-argument=imdb:///?src=mdot\">\n",
      "\n",
      "\n",
      "\n",
      "        <script type=\"text/javascript\">var IMDbTimer={starttime: new Date().getTime(),pt:'java'};</script>\n",
      "\n",
      "<script>\n",
      "    if (typeof uet == 'function') {\n",
      "      uet(\"bb\", \"LoadTitle\"\n"
     ]
    }
   ],
   "source": [
    "from requests import get\n",
    "url = 'https://www.imdb.com/search/title/?title_type=feature&release_date=2018-01-01,2018-12-31&start=51&ref_=adv_nxt'\n",
    "response = get(url)\n",
    "print(response.text[:500])"
   ]
  },
  {
   "cell_type": "code",
   "execution_count": 2,
   "metadata": {},
   "outputs": [
    {
     "data": {
      "text/plain": [
       "bs4.BeautifulSoup"
      ]
     },
     "execution_count": 2,
     "metadata": {},
     "output_type": "execute_result"
    }
   ],
   "source": [
    "from bs4 import BeautifulSoup\n",
    "html_soup = BeautifulSoup(response.text, 'html.parser')\n",
    "type(html_soup)\n",
    "\n"
   ]
  },
  {
   "cell_type": "code",
   "execution_count": 3,
   "metadata": {},
   "outputs": [
    {
     "name": "stdout",
     "output_type": "stream",
     "text": [
      "<class 'bs4.element.ResultSet'>\n",
      "50\n"
     ]
    }
   ],
   "source": [
    "movie_containers = html_soup.find_all('div', class_ = 'lister-item mode-advanced')\n",
    "print(type(movie_containers))\n",
    "print(len(movie_containers))"
   ]
  },
  {
   "cell_type": "code",
   "execution_count": 4,
   "metadata": {
    "collapsed": true
   },
   "outputs": [],
   "source": [
    "container = movie_containers[0]\n",
    "first_movie = movie_containers[0]"
   ]
  },
  {
   "cell_type": "code",
   "execution_count": 6,
   "metadata": {
    "collapsed": true
   },
   "outputs": [],
   "source": [
    "def names(container):\n",
    "    name_list = []\n",
    "    for elem in container(text=re.compile(r'Director')):\n",
    "        if elem:\n",
    "            name_list = elem.parent.text\n",
    "\n",
    "            names = name_list.split('\\n')\n",
    "            names = [i for i in names if i] \n",
    "        \n",
    "        \n",
    "            names_s = []\n",
    "            for name in names: \n",
    "                name_s = name.strip()\n",
    "                name_s = name_s.strip(\",\")\n",
    "                names_s.append(name_s)  \n",
    "                names_s = [i for i in names_s if \"|\" not in i] \n",
    "\n",
    "            star_ind = names_s.index('Stars:')\n",
    "            if star_ind:\n",
    "                stars = names_s[star_ind + 1:len(names_s)]\n",
    "            \n",
    "                if names_s[0][0:8] == 'Director':\n",
    "                    director_s = names_s[1:star_ind ]\n",
    "\n",
    "    \n",
    "        \n",
    "    return director_s, stars    \n",
    "\n"
   ]
  },
  {
   "cell_type": "code",
   "execution_count": 7,
   "metadata": {
    "collapsed": true
   },
   "outputs": [],
   "source": [
    "def vote_gross(container):\n",
    "    gross_tot = None\n",
    "    votes = container.find('p', class_ = 'sort-num_votes-visible')\n",
    "    if votes:\n",
    "        votes = votes.text\n",
    "        votes = votes.replace('\\n', ' ')\n",
    "        votes = votes.replace('|', '')\n",
    "        votes = votes.strip(\" \")\n",
    "        votes = votes.split(\" \")\n",
    "        votes = [i for i in votes if i]\n",
    "        if votes[0] == 'Votes:':\n",
    "                vote_s = votes[1]\n",
    "        if len(votes) > 2:\n",
    "            if votes[2] == 'Gross:':\n",
    "                gross_tot = votes[3]\n",
    "         \n",
    "    return  vote_s, gross_tot  "
   ]
  },
  {
   "cell_type": "code",
   "execution_count": 8,
   "metadata": {},
   "outputs": [
    {
     "ename": "NameError",
     "evalue": "name 're' is not defined",
     "output_type": "error",
     "traceback": [
      "\u001b[0;31m---------------------------------------------------------------------------\u001b[0m",
      "\u001b[0;31mNameError\u001b[0m                                 Traceback (most recent call last)",
      "\u001b[0;32m<ipython-input-8-49973e243532>\u001b[0m in \u001b[0;36m<module>\u001b[0;34m()\u001b[0m\n\u001b[1;32m     53\u001b[0m \u001b[0;34m\u001b[0m\u001b[0m\n\u001b[1;32m     54\u001b[0m \u001b[0;34m\u001b[0m\u001b[0m\n\u001b[0;32m---> 55\u001b[0;31m \u001b[0mdirectors\u001b[0m\u001b[0;34m,\u001b[0m \u001b[0mstars\u001b[0m \u001b[0;34m=\u001b[0m \u001b[0mnames\u001b[0m\u001b[0;34m(\u001b[0m\u001b[0mcontainer\u001b[0m\u001b[0;34m)\u001b[0m\u001b[0;34m\u001b[0m\u001b[0m\n\u001b[0m\u001b[1;32m     56\u001b[0m \u001b[0;32mif\u001b[0m \u001b[0mdirectors\u001b[0m\u001b[0;34m:\u001b[0m\u001b[0;34m\u001b[0m\u001b[0m\n\u001b[1;32m     57\u001b[0m     \u001b[0mdata\u001b[0m\u001b[0;34m.\u001b[0m\u001b[0mappend\u001b[0m\u001b[0;34m(\u001b[0m\u001b[0mdirectors\u001b[0m\u001b[0;34m)\u001b[0m\u001b[0;34m\u001b[0m\u001b[0m\n",
      "\u001b[0;32m<ipython-input-6-a7ff22023484>\u001b[0m in \u001b[0;36mnames\u001b[0;34m(container)\u001b[0m\n\u001b[1;32m      1\u001b[0m \u001b[0;32mdef\u001b[0m \u001b[0mnames\u001b[0m\u001b[0;34m(\u001b[0m\u001b[0mcontainer\u001b[0m\u001b[0;34m)\u001b[0m\u001b[0;34m:\u001b[0m\u001b[0;34m\u001b[0m\u001b[0m\n\u001b[1;32m      2\u001b[0m     \u001b[0mname_list\u001b[0m \u001b[0;34m=\u001b[0m \u001b[0;34m[\u001b[0m\u001b[0;34m]\u001b[0m\u001b[0;34m\u001b[0m\u001b[0m\n\u001b[0;32m----> 3\u001b[0;31m     \u001b[0;32mfor\u001b[0m \u001b[0melem\u001b[0m \u001b[0;32min\u001b[0m \u001b[0mcontainer\u001b[0m\u001b[0;34m(\u001b[0m\u001b[0mtext\u001b[0m\u001b[0;34m=\u001b[0m\u001b[0mre\u001b[0m\u001b[0;34m.\u001b[0m\u001b[0mcompile\u001b[0m\u001b[0;34m(\u001b[0m\u001b[0;34mr'Director'\u001b[0m\u001b[0;34m)\u001b[0m\u001b[0;34m)\u001b[0m\u001b[0;34m:\u001b[0m\u001b[0;34m\u001b[0m\u001b[0m\n\u001b[0m\u001b[1;32m      4\u001b[0m         \u001b[0;32mif\u001b[0m \u001b[0melem\u001b[0m\u001b[0;34m:\u001b[0m\u001b[0;34m\u001b[0m\u001b[0m\n\u001b[1;32m      5\u001b[0m             \u001b[0mname_list\u001b[0m \u001b[0;34m=\u001b[0m \u001b[0melem\u001b[0m\u001b[0;34m.\u001b[0m\u001b[0mparent\u001b[0m\u001b[0;34m.\u001b[0m\u001b[0mtext\u001b[0m\u001b[0;34m\u001b[0m\u001b[0m\n",
      "\u001b[0;31mNameError\u001b[0m: name 're' is not defined"
     ]
    }
   ],
   "source": [
    "import pandas as pd\n",
    "data = []\n",
    "# for container in movie_containers:\n",
    "\n",
    "title = container.h3.a\n",
    "if title:\n",
    "    data.append(title.text)\n",
    "else:\n",
    "    data.append(None)\n",
    "\n",
    "list_number = container.find('span', class_ = 'lister-item-index unbold text-primary')\n",
    "if list_number:\n",
    "    data.append(int(list_number.text.strip(\".\")))   \n",
    "else:\n",
    "    data.append(None)\n",
    "\n",
    "year = container.h3.find('span', class_ = 'lister-item-year text-muted unbold')\n",
    "if year:\n",
    "\n",
    "    data.append(year.text.strip(\"()\"))\n",
    "else:\n",
    "    data.append(None)\n",
    "\n",
    "runtime = container.find('span', class_ = 'runtime')\n",
    "if runtime:\n",
    "    data.append(runtime.text.strip(\"()\"))\n",
    "else:\n",
    "    data.append(None)\n",
    "\n",
    "imdb_sc = container.strong\n",
    "if imdb_sc:\n",
    "    data.append(float(imdb_sc.text.strip(\"()\")))\n",
    "else:\n",
    "    data.append(None)\n",
    "\n",
    "mscore = container.find('span', class_ = 'metascore favorable')\n",
    "if mscore:\n",
    "    data.append(int(mscore.text))\n",
    "else:\n",
    "    data.append(None)                \n",
    "\n",
    "genres = container.find('span', class_ = 'genre')\n",
    "if genres:\n",
    "    data.append(genres.text.strip(\"\\n\"))\n",
    "else:\n",
    "    data.append(None)                \n",
    "\n",
    "MPAA_rating = container.find('span', class_ = 'certificate')\n",
    "if MPAA_rating:\n",
    "    data.append(MPAA_rating.text)\n",
    "else:\n",
    "    data.append(None)    \n",
    "\n",
    "\n",
    "directors, stars = names(container)\n",
    "if directors:\n",
    "    data.append(directors)\n",
    "else:\n",
    "    data.append(None)\n",
    "\n",
    "if stars:\n",
    "    data.append(stars)\n",
    "else:\n",
    "    data.append(None)                \n",
    "\n",
    "\n",
    "votes, gross = vote_gross(container)\n",
    "\n",
    "if votes:\n",
    "    data.append(votes)            \n",
    "else:\n",
    "    data.append(None)\n",
    "\n",
    "if gross:\n",
    "    data.append(gross)                \n",
    "else:\n",
    "    data.append(None)\n",
    "\n",
    "\n",
    "df2 =  pd.DataFrame([data], columns = ['Film title', 'Imdb 2018 list number', 'Year released', 'Runtime', 'Imdb Score', 'Metascore', 'Genres', 'MPAA rating', 'Director(s)', 'Actor(s)', 'Votes', 'Gross'])              \n",
    "\n",
    "\n",
    "    \n",
    "    "
   ]
  },
  {
   "cell_type": "code",
   "execution_count": 254,
   "metadata": {},
   "outputs": [
    {
     "data": {
      "text/html": [
       "<div>\n",
       "<style>\n",
       "    .dataframe thead tr:only-child th {\n",
       "        text-align: right;\n",
       "    }\n",
       "\n",
       "    .dataframe thead th {\n",
       "        text-align: left;\n",
       "    }\n",
       "\n",
       "    .dataframe tbody tr th {\n",
       "        vertical-align: top;\n",
       "    }\n",
       "</style>\n",
       "<table border=\"1\" class=\"dataframe\">\n",
       "  <thead>\n",
       "    <tr style=\"text-align: right;\">\n",
       "      <th></th>\n",
       "      <th>Film title</th>\n",
       "      <th>Imdb 2018 list number</th>\n",
       "      <th>Year released</th>\n",
       "      <th>Runtime</th>\n",
       "      <th>Imdb Score</th>\n",
       "      <th>Metascore</th>\n",
       "      <th>Genres</th>\n",
       "      <th>MPAA rating</th>\n",
       "      <th>Director(s)</th>\n",
       "      <th>Actor(s)</th>\n",
       "      <th>Votes</th>\n",
       "      <th>Gross</th>\n",
       "    </tr>\n",
       "  </thead>\n",
       "  <tbody>\n",
       "    <tr>\n",
       "      <th>0</th>\n",
       "      <td>The Ballad of Buster Scruggs</td>\n",
       "      <td>51</td>\n",
       "      <td>2018</td>\n",
       "      <td>133 min</td>\n",
       "      <td>7.3</td>\n",
       "      <td>79</td>\n",
       "      <td>Comedy, Drama, Musical</td>\n",
       "      <td>R</td>\n",
       "      <td>[Ethan Coen, Joel Coen]</td>\n",
       "      <td>[Tim Blake Nelson, Willie Watson, Clancy Brown...</td>\n",
       "      <td>93,830</td>\n",
       "      <td>None</td>\n",
       "    </tr>\n",
       "  </tbody>\n",
       "</table>\n",
       "</div>"
      ],
      "text/plain": [
       "                     Film title  Imdb 2018 list number Year released  Runtime  \\\n",
       "0  The Ballad of Buster Scruggs                     51          2018  133 min   \n",
       "\n",
       "   Imdb Score  Metascore                              Genres MPAA rating  \\\n",
       "0         7.3         79  Comedy, Drama, Musical                       R   \n",
       "\n",
       "               Director(s)                                           Actor(s)  \\\n",
       "0  [Ethan Coen, Joel Coen]  [Tim Blake Nelson, Willie Watson, Clancy Brown...   \n",
       "\n",
       "    Votes Gross  \n",
       "0  93,830  None  "
      ]
     },
     "execution_count": 254,
     "metadata": {},
     "output_type": "execute_result"
    }
   ],
   "source": [
    "df2"
   ]
  },
  {
   "cell_type": "code",
   "execution_count": null,
   "metadata": {
    "collapsed": true
   },
   "outputs": [],
   "source": []
  },
  {
   "cell_type": "code",
   "execution_count": 12,
   "metadata": {},
   "outputs": [
    {
     "data": {
      "text/plain": [
       "2018"
      ]
     },
     "execution_count": 12,
     "metadata": {},
     "output_type": "execute_result"
    }
   ],
   "source": [
    "year = first_movie.h3.find('span', class_ = 'lister-item-year text-muted unbold').text.strip(\"()\")\n",
    "int(year) "
   ]
  },
  {
   "cell_type": "code",
   "execution_count": 8,
   "metadata": {},
   "outputs": [
    {
     "data": {
      "text/plain": [
       "'The Ballad of Buster Scruggs'"
      ]
     },
     "execution_count": 8,
     "metadata": {},
     "output_type": "execute_result"
    }
   ],
   "source": [
    "first_movie.h3.a.text"
   ]
  },
  {
   "cell_type": "code",
   "execution_count": 9,
   "metadata": {},
   "outputs": [
    {
     "data": {
      "text/plain": [
       "'133 min'"
      ]
     },
     "execution_count": 9,
     "metadata": {},
     "output_type": "execute_result"
    }
   ],
   "source": [
    "first_movie_runtime = first_movie.find('span', class_ = 'runtime').text\n",
    "first_movie_runtime"
   ]
  },
  {
   "cell_type": "code",
   "execution_count": 243,
   "metadata": {},
   "outputs": [
    {
     "data": {
      "text/plain": [
       "float"
      ]
     },
     "execution_count": 243,
     "metadata": {},
     "output_type": "execute_result"
    }
   ],
   "source": [
    "first_movie.strong\n",
    "first_imdb = float(first_movie.strong.text)\n",
    "type(first_imdb)"
   ]
  },
  {
   "cell_type": "code",
   "execution_count": 244,
   "metadata": {},
   "outputs": [
    {
     "name": "stdout",
     "output_type": "stream",
     "text": [
      "79\n"
     ]
    }
   ],
   "source": [
    "first_mscore = first_movie.find('span', class_ = 'metascore favorable')\n",
    "first_mscore = int(first_mscore.text)\n",
    "print(first_mscore)"
   ]
  },
  {
   "cell_type": "code",
   "execution_count": 12,
   "metadata": {},
   "outputs": [
    {
     "data": {
      "text/plain": [
       "str"
      ]
     },
     "execution_count": 12,
     "metadata": {},
     "output_type": "execute_result"
    }
   ],
   "source": [
    "first_mgenre = first_movie.find('span', class_ = 'genre')\n",
    "genres = first_mgenre.text\n",
    "genres = genres.strip(\"\\n\")\n",
    "type(genres)"
   ]
  },
  {
   "cell_type": "code",
   "execution_count": 81,
   "metadata": {},
   "outputs": [
    {
     "ename": "NameError",
     "evalue": "name 'container' is not defined",
     "output_type": "error",
     "traceback": [
      "\u001b[0;31m---------------------------------------------------------------------------\u001b[0m",
      "\u001b[0;31mNameError\u001b[0m                                 Traceback (most recent call last)",
      "\u001b[0;32m<ipython-input-81-7926ec8cf70e>\u001b[0m in \u001b[0;36m<module>\u001b[0;34m()\u001b[0m\n\u001b[0;32m----> 1\u001b[0;31m \u001b[0mvotes\u001b[0m \u001b[0;34m=\u001b[0m \u001b[0mcontainer\u001b[0m\u001b[0;34m.\u001b[0m\u001b[0mfind\u001b[0m\u001b[0;34m(\u001b[0m\u001b[0;34m'span'\u001b[0m\u001b[0;34m,\u001b[0m \u001b[0mattrs\u001b[0m \u001b[0;34m=\u001b[0m \u001b[0;34m{\u001b[0m\u001b[0;34m'name'\u001b[0m\u001b[0;34m:\u001b[0m\u001b[0;34m'nv'\u001b[0m\u001b[0;34m}\u001b[0m\u001b[0;34m)\u001b[0m\u001b[0;34m[\u001b[0m\u001b[0;34m'data-value'\u001b[0m\u001b[0;34m]\u001b[0m\u001b[0;34m\u001b[0m\u001b[0m\n\u001b[0m\u001b[1;32m      2\u001b[0m \u001b[0;31m# first_votes_n = first_votes['data-value']\u001b[0m\u001b[0;34m\u001b[0m\u001b[0;34m\u001b[0m\u001b[0m\n\u001b[1;32m      3\u001b[0m \u001b[0;31m# first_votes\u001b[0m\u001b[0;34m\u001b[0m\u001b[0;34m\u001b[0m\u001b[0m\n\u001b[1;32m      4\u001b[0m \u001b[0;31m# int(first_votes_n)\u001b[0m\u001b[0;34m\u001b[0m\u001b[0;34m\u001b[0m\u001b[0m\n",
      "\u001b[0;31mNameError\u001b[0m: name 'container' is not defined"
     ]
    }
   ],
   "source": [
    "votes = container.find('span', attrs = {'name':'nv'})['data-value']\n",
    "# first_votes_n = first_votes['data-value']\n",
    "# first_votes\n",
    "# int(first_votes_n)"
   ]
  },
  {
   "cell_type": "code",
   "execution_count": 82,
   "metadata": {},
   "outputs": [
    {
     "data": {
      "text/plain": [
       "'R'"
      ]
     },
     "execution_count": 82,
     "metadata": {},
     "output_type": "execute_result"
    }
   ],
   "source": [
    "first_MPAA_rating = first_movie.find('span', class_ = 'certificate')\n",
    "first_MPAA_rating.text"
   ]
  },
  {
   "cell_type": "code",
   "execution_count": 15,
   "metadata": {
    "collapsed": true
   },
   "outputs": [],
   "source": [
    "first_gross = first_movie.find('span', attrs = {'name':'nv'})"
   ]
  },
  {
   "cell_type": "code",
   "execution_count": 16,
   "metadata": {
    "collapsed": true
   },
   "outputs": [],
   "source": [
    "second_movie = movie_containers[1]"
   ]
  },
  {
   "cell_type": "code",
   "execution_count": 83,
   "metadata": {},
   "outputs": [
    {
     "data": {
      "text/plain": [
       "[<span data-value=\"63258\" name=\"nv\">63,258</span>,\n",
       " <span data-value=\"21,704,844\" name=\"nv\">$21.70M</span>]"
      ]
     },
     "execution_count": 83,
     "metadata": {},
     "output_type": "execute_result"
    }
   ],
   "source": [
    "second_nvs = second_movie.find_all('span', attrs = {'name':'nv'}) \n",
    "second_nvs"
   ]
  },
  {
   "cell_type": "code",
   "execution_count": 18,
   "metadata": {},
   "outputs": [
    {
     "data": {
      "text/plain": [
       "'21,704,844'"
      ]
     },
     "execution_count": 18,
     "metadata": {},
     "output_type": "execute_result"
    }
   ],
   "source": [
    "second_nvs[1]['data-value']"
   ]
  },
  {
   "cell_type": "code",
   "execution_count": 19,
   "metadata": {
    "collapsed": true
   },
   "outputs": [],
   "source": [
    "# <span class=\"lister-item-index unbold text-primary\">51.</span>"
   ]
  },
  {
   "cell_type": "code",
   "execution_count": 237,
   "metadata": {
    "collapsed": true
   },
   "outputs": [],
   "source": [
    "first_listnumber = first_movie.find('span', class_ = 'lister-item-index unbold text-primary')"
   ]
  },
  {
   "cell_type": "code",
   "execution_count": 242,
   "metadata": {},
   "outputs": [
    {
     "data": {
      "text/plain": [
       "51"
      ]
     },
     "execution_count": 242,
     "metadata": {},
     "output_type": "execute_result"
    }
   ],
   "source": [
    "int(first_listnumber.text.strip(\".\"))\n",
    "#<p class=\"\">"
   ]
  },
  {
   "cell_type": "markdown",
   "metadata": {},
   "source": []
  },
  {
   "cell_type": "code",
   "execution_count": 22,
   "metadata": {},
   "outputs": [
    {
     "data": {
      "text/plain": [
       "[<a href=\"/name/nm0001053/\">Ethan Coen</a>,\n",
       " <a href=\"/name/nm0001054/\">Joel Coen</a>,\n",
       " <a href=\"/name/nm0625789/\">Tim Blake Nelson</a>,\n",
       " <a href=\"/name/nm0914929/\">Willie Watson</a>,\n",
       " <a href=\"/name/nm0000317/\">Clancy Brown</a>,\n",
       " <a href=\"/name/nm1180243/\">Danny McCarthy</a>]"
      ]
     },
     "execution_count": 22,
     "metadata": {},
     "output_type": "execute_result"
    }
   ],
   "source": [
    "import re\n",
    "first_movie.find_all(\"a\", {\"href\" : re.compile('/name/.*')})"
   ]
  },
  {
   "cell_type": "code",
   "execution_count": 185,
   "metadata": {
    "collapsed": true
   },
   "outputs": [],
   "source": [
    "name_list = []\n",
    "for elem in first_movie(text=re.compile(r'Director')):\n",
    "    name_list = elem.parent\n",
    "names = name_list.text"
   ]
  },
  {
   "cell_type": "code",
   "execution_count": 186,
   "metadata": {
    "collapsed": true
   },
   "outputs": [],
   "source": [
    "names = names.split('\\n')"
   ]
  },
  {
   "cell_type": "code",
   "execution_count": 44,
   "metadata": {},
   "outputs": [
    {
     "name": "stdout",
     "output_type": "stream",
     "text": [
      "0 \n",
      "1     Directors:\n",
      "2 Ethan Coen, \n",
      "3 Joel Coen\n",
      "4 | \n",
      "5     Stars:\n",
      "6 Tim Blake Nelson, \n",
      "7 Willie Watson, \n",
      "8 Clancy Brown, \n",
      "9 Danny McCarthy\n",
      "10 \n"
     ]
    }
   ],
   "source": [
    "for index, value in enumerate(names): \n",
    "    print(index, value)\n"
   ]
  },
  {
   "cell_type": "code",
   "execution_count": 187,
   "metadata": {
    "collapsed": true
   },
   "outputs": [],
   "source": [
    "names_s = []\n",
    "for name in names: \n",
    "    name_s = name.strip()\n",
    "    name_s = name_s.strip(\",\")\n",
    "    names_s.append(name_s)"
   ]
  },
  {
   "cell_type": "code",
   "execution_count": 201,
   "metadata": {},
   "outputs": [
    {
     "data": {
      "text/plain": [
       "['Ethan Coen', 'Joel Coen']"
      ]
     },
     "execution_count": 201,
     "metadata": {},
     "output_type": "execute_result"
    }
   ],
   "source": [
    "\n",
    "\n",
    "star_ind = names_s.index('Stars:')\n",
    "if names_s[0][0:8] == 'Director':\n",
    "    director_s = names_s[1:star_ind ]\n",
    "director_s"
   ]
  },
  {
   "cell_type": "code",
   "execution_count": 199,
   "metadata": {},
   "outputs": [
    {
     "data": {
      "text/plain": [
       "['Tim Blake Nelson', 'Willie Watson', 'Clancy Brown', 'Danny McCarthy']"
      ]
     },
     "execution_count": 199,
     "metadata": {},
     "output_type": "execute_result"
    }
   ],
   "source": [
    "stars = names_s[star_ind + 1:len(names_s)]\n",
    "stars"
   ]
  },
  {
   "cell_type": "code",
   "execution_count": null,
   "metadata": {
    "collapsed": true
   },
   "outputs": [],
   "source": []
  },
  {
   "cell_type": "code",
   "execution_count": null,
   "metadata": {
    "collapsed": true
   },
   "outputs": [],
   "source": [
    "names_s = [i for i in names_s if i] names_s = [i for i in names_s if i ! \"|\"]"
   ]
  },
  {
   "cell_type": "markdown",
   "metadata": {},
   "source": [
    "names_s = [i for i in names_s if i] \n",
    "names_s = [i for i in names_s if i !  \"|\"] \n",
    "names_s"
   ]
  },
  {
   "cell_type": "code",
   "execution_count": 180,
   "metadata": {
    "collapsed": true
   },
   "outputs": [],
   "source": [
    "for elem in container(text=re.compile(r'Votes')):\n",
    "    votes = elem.parent"
   ]
  },
  {
   "cell_type": "code",
   "execution_count": null,
   "metadata": {
    "collapsed": true
   },
   "outputs": [],
   "source": [
    "<p class=\"sort-num_votes-visible\">\n",
    "                <span class=\"text-muted\">Votes:</span>\n",
    "                <span name=\"nv\" data-value=\"63226\">63,226</span>\n",
    "    <span class=\"ghost\">|</span>                <span class=\"text-muted\">Gross:</span>\n",
    "                <span name=\"nv\" data-value=\"21,704,844\">$21.70M</span>\n",
    "        </p>"
   ]
  },
  {
   "cell_type": "code",
   "execution_count": 225,
   "metadata": {},
   "outputs": [
    {
     "data": {
      "text/plain": [
       "'\\nVotes:\\n93,830\\n'"
      ]
     },
     "execution_count": 225,
     "metadata": {},
     "output_type": "execute_result"
    }
   ],
   "source": [
    "votes = first_movie.find('p', class_ = 'sort-num_votes-visible').text\n",
    "votes"
   ]
  },
  {
   "cell_type": "code",
   "execution_count": 228,
   "metadata": {
    "collapsed": true
   },
   "outputs": [],
   "source": [
    "\n",
    "\n",
    "votes = votes.replace('\\n', ' ')\n",
    "votes = votes.replace('|', '')\n",
    "votes = votes.strip(\" \")\n",
    "votes = votes.split(\" \")\n",
    "# votes = votes[0].split(\" \")\n",
    "\n",
    "# gross = votes[1].split(\" \")"
   ]
  },
  {
   "cell_type": "code",
   "execution_count": 229,
   "metadata": {},
   "outputs": [
    {
     "data": {
      "text/plain": [
       "['Votes:', '93,830']"
      ]
     },
     "execution_count": 229,
     "metadata": {},
     "output_type": "execute_result"
    }
   ],
   "source": [
    "votes"
   ]
  },
  {
   "cell_type": "code",
   "execution_count": 183,
   "metadata": {},
   "outputs": [
    {
     "data": {
      "text/plain": [
       "['Votes:', '63,258']"
      ]
     },
     "execution_count": 183,
     "metadata": {},
     "output_type": "execute_result"
    }
   ],
   "source": [
    "votes_s"
   ]
  },
  {
   "cell_type": "code",
   "execution_count": 184,
   "metadata": {},
   "outputs": [
    {
     "data": {
      "text/plain": [
       "['Gross:', '$21.70M']"
      ]
     },
     "execution_count": 184,
     "metadata": {},
     "output_type": "execute_result"
    }
   ],
   "source": [
    "gross"
   ]
  },
  {
   "cell_type": "code",
   "execution_count": 176,
   "metadata": {
    "collapsed": true
   },
   "outputs": [],
   "source": [
    "if vote[0] == 'Votes:':\n",
    "    vote_s = vote[1]"
   ]
  },
  {
   "cell_type": "code",
   "execution_count": 177,
   "metadata": {},
   "outputs": [
    {
     "data": {
      "text/plain": [
       "'63,258'"
      ]
     },
     "execution_count": 177,
     "metadata": {},
     "output_type": "execute_result"
    }
   ],
   "source": [
    "vote_s"
   ]
  },
  {
   "cell_type": "code",
   "execution_count": 178,
   "metadata": {
    "collapsed": true
   },
   "outputs": [],
   "source": [
    "if gross[0] == 'Gross:':\n",
    "    gross_tot = gross[1]"
   ]
  },
  {
   "cell_type": "code",
   "execution_count": 231,
   "metadata": {
    "collapsed": true
   },
   "outputs": [],
   "source": [
    "votes2 = second_movie.find('p', class_ = 'sort-num_votes-visible').text\n",
    "votes2\n",
    "votes2 = votes2.replace('\\n', ' ')\n",
    "votes2 = votes2.replace('|', '')\n",
    "votes2 = votes2.strip(\" \")\n",
    "votes2 = votes2.split(\" \")"
   ]
  },
  {
   "cell_type": "code",
   "execution_count": 236,
   "metadata": {},
   "outputs": [
    {
     "data": {
      "text/plain": [
       "4"
      ]
     },
     "execution_count": 236,
     "metadata": {},
     "output_type": "execute_result"
    }
   ],
   "source": [
    "votes2 = [i for i in votes2 if i]\n",
    "len(votes2)"
   ]
  },
  {
   "cell_type": "code",
   "execution_count": 245,
   "metadata": {},
   "outputs": [
    {
     "data": {
      "text/plain": [
       "10"
      ]
     },
     "execution_count": 245,
     "metadata": {},
     "output_type": "execute_result"
    }
   ],
   "source": [
    "x = ['Film title', 'Imdb 2018 list number', 'Year released', \n",
    "     'Runtime', 'Imdb Score', 'Metascore', 'Genres', 'MPAA rating', 'Director(s)', 'Actor(s)'] \n",
    "len(x)"
   ]
  },
  {
   "cell_type": "code",
   "execution_count": 257,
   "metadata": {},
   "outputs": [
    {
     "data": {
      "text/plain": [
       "236"
      ]
     },
     "execution_count": 257,
     "metadata": {},
     "output_type": "execute_result"
    }
   ],
   "source": [
    "11827 // 50"
   ]
  },
  {
   "cell_type": "code",
   "execution_count": 258,
   "metadata": {},
   "outputs": [
    {
     "data": {
      "text/plain": [
       "11800"
      ]
     },
     "execution_count": 258,
     "metadata": {},
     "output_type": "execute_result"
    }
   ],
   "source": [
    "236 * 50"
   ]
  },
  {
   "cell_type": "code",
   "execution_count": null,
   "metadata": {
    "collapsed": true
   },
   "outputs": [],
   "source": []
  }
 ],
 "metadata": {
  "kernelspec": {
   "display_name": "Python 3",
   "language": "python",
   "name": "python3"
  },
  "language_info": {
   "codemirror_mode": {
    "name": "ipython",
    "version": 3
   },
   "file_extension": ".py",
   "mimetype": "text/x-python",
   "name": "python",
   "nbconvert_exporter": "python",
   "pygments_lexer": "ipython3",
   "version": "3.6.1"
  }
 },
 "nbformat": 4,
 "nbformat_minor": 2
}
