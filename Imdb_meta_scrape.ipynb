{
 "cells": [
  {
   "cell_type": "code",
   "execution_count": 1,
   "metadata": {},
   "outputs": [],
   "source": [
    "import psycopg2 as pg2\n",
    "from psycopg2 import extras\n",
    "import time\n",
    "import random\n",
    "\n",
    "#Import beautiful soup\n",
    "import requests\n",
    "import re\n",
    "from bs4 import BeautifulSoup\n",
    "\n",
    "def scrape_meta(item_number, end_number):\n",
    "    \n",
    "    \n",
    "    \n",
    "    \n",
    "    while item_number < end_number:\n",
    "    \n",
    "        response = requests.get('https://www.imdb.com/search/title/?title_type=feature&release_date=2018-01-01,2018-12-31&start={}&ref_=adv_nxt'.format(item_number))\n",
    "\n",
    "        soup = BeautifulSoup(response.text, 'html.parser')\n",
    "        movie_containers = soup.find_all('div', class_ = 'lister-item mode-advanced')\n",
    "\n",
    "        \n",
    "\n",
    "        dada = []\n",
    "        for container in movie_containers:\n",
    "            \n",
    "            data = []\n",
    "            title = container.h3.a\n",
    "            if title:\n",
    "                data.append(title.text)\n",
    "            else:\n",
    "                data.append(None)\n",
    "            \n",
    "            \n",
    "            \n",
    "            list_number = container.find('span', class_ = 'lister-item-index unbold text-primary')\n",
    "            if list_number:\n",
    "                list_number = list_number.text.replace(',', '')\n",
    "                data.append(int(list_number.strip(\".\")))   \n",
    "            else:\n",
    "                data.append(None)\n",
    "            \n",
    "\n",
    "            \n",
    "            for elem in container(text=re.compile(r'Metascore')):\n",
    "                if elem:\n",
    "                    \n",
    "                    data.append(int(elem.parent.text[1:3]))\n",
    "                else:\n",
    "                    data.append(None)     \n",
    "\n",
    "            \n",
    "                           \n",
    "\n",
    "            \n",
    "            data = tuple(data)    \n",
    "            \n",
    "            dada.append(data)\n",
    "            \n",
    "            \n",
    "            \n",
    "        item_number = item_number + 50\n",
    "        \n",
    "        print(dada)\n",
    "        insert(dada)    \n",
    "\n",
    "        time.sleep(random.randint(5,30))    \n",
    "\n",
    "    pass \n",
    "        \n",
    "        \n",
    "        \n",
    "                                \n",
    "\n",
    "    \n",
    "        \n",
    "        \n",
    "        \n",
    "\n",
    "        \n"
   ]
  },
  {
   "cell_type": "code",
   "execution_count": null,
   "metadata": {
    "collapsed": true
   },
   "outputs": [],
   "source": [
    "def insert(row):\n",
    "\n",
    "    sql = \"\"\"\n",
    "        INSERT INTO imdb2018_meta (film_title, imdb_num, metascore) \n",
    "        VALUES %s\n",
    "        \"\"\"\n",
    "\n",
    "    \n",
    "    \n",
    "    conn = None\n",
    "    \n",
    "    try:\n",
    "        connection = pg2.connect(user = \"johnaguero\",\n",
    "                                      password = \"torTuosity2\",\n",
    "                                      host = \"127.0.0.1\",\n",
    "                                      port = \"5432\",\n",
    "                                      database = \"films\")\n",
    "        c = connection.cursor()\n",
    "        \n",
    "\n",
    "        extras.execute_values(c, sql, row) \n",
    "        connection.commit()\n",
    "        count = c.rowcount\n",
    "        print (count)\n",
    "    except (Exception, pg2.Error) as error :\n",
    "        if(connection):\n",
    "            print(\"Failed to insert record into mobile table\", error)\n",
    "    finally:\n",
    "        #closing database connection.\n",
    "        if(connection):\n",
    "            c.close()\n",
    "            connection.close()"
   ]
  },
  {
   "cell_type": "code",
   "execution_count": 7,
   "metadata": {},
   "outputs": [
    {
     "name": "stdout",
     "output_type": "stream",
     "text": [
      "[('The Ballad of Buster Scruggs', 51, 79), ('Overlord', 52, 60), ('Arctic', 53, 71), ('Border', 54, 75), ('The Spy Who Dumped Me', 55, 52), ('Mamma Mia! Here We Go Again', 56, 60), (\"Ocean's 8\", 57, 61), ('Peppermint', 58, 29), ('Bumblebee', 59, 66), ('Incredibles 2', 60, 80), ('The Sisters Brothers', 61, 78), ('A Million Little Pieces', 62, 50), ('Mile 22', 63, 38), ('Driven', 64, 58), ('Under the Silver Lake', 65, 60), ('Den of Thieves', 66, 49), ('The Predator', 67, 48), ('Skin', 68, 58), ('The Nun', 69, 46), ('Capharnaüm', 70, 75), (\"The Girl in the Spider's Web\", 71, 43), ('The Perfection', 72, 60), ('Bird Box', 73, 51), ('Mid90s', 74, 66), ('The House That Jack Built', 75, 42), ('Creed II', 76, 66), ('Tomb Raider', 77, 48), ('Beautiful Boy', 78, 62), ('Ant-Man and the Wasp', 79, 70), ('The Kissing Booth', 80), ('The Old Man & the Gun', 81, 80), ('Sorry to Bother You', 82, 80), ('Searching', 83, 71), ('Death Wish', 84, 31), ('Boy Erased', 85, 69), ('Eerie', 86), ('Sicario: Day of the Soldado', 87, 61), ('Upgrade', 88, 67), ('Hex', 89), ('The Hate U Give', 90, 81), ('Bigger', 91, 37), ('Game Night', 92, 66), ('The Equalizer 2', 93, 50), ('Tag', 94, 56), ('Operation Finale', 95, 58), ('Nekrotronic', 96, 25), (\"To All the Boys I've Loved Before\", 97, 64), ('Replicas', 98, 19), ('Fifty Shades Freed', 99, 31), ('Nightmare Cinema', 100, 60)]\n",
      "Failed to insert record into mobile table tuple index out of range\n"
     ]
    },
    {
     "ename": "KeyboardInterrupt",
     "evalue": "",
     "output_type": "error",
     "traceback": [
      "\u001b[0;31m---------------------------------------------------------------------------\u001b[0m",
      "\u001b[0;31mKeyboardInterrupt\u001b[0m                         Traceback (most recent call last)",
      "\u001b[0;32m<ipython-input-7-2d00487292e0>\u001b[0m in \u001b[0;36m<module>\u001b[0;34m()\u001b[0m\n\u001b[0;32m----> 1\u001b[0;31m \u001b[0mscrape_meta\u001b[0m\u001b[0;34m(\u001b[0m\u001b[0;36m51\u001b[0m\u001b[0;34m,\u001b[0m \u001b[0;36m1001\u001b[0m\u001b[0;34m)\u001b[0m\u001b[0;34m\u001b[0m\u001b[0m\n\u001b[0m",
      "\u001b[0;32m<ipython-input-1-2ada29225168>\u001b[0m in \u001b[0;36mscrape_meta\u001b[0;34m(item_number, end_number)\u001b[0m\n\u001b[1;32m     66\u001b[0m         \u001b[0minsert\u001b[0m\u001b[0;34m(\u001b[0m\u001b[0mdada\u001b[0m\u001b[0;34m)\u001b[0m\u001b[0;34m\u001b[0m\u001b[0m\n\u001b[1;32m     67\u001b[0m \u001b[0;34m\u001b[0m\u001b[0m\n\u001b[0;32m---> 68\u001b[0;31m         \u001b[0mtime\u001b[0m\u001b[0;34m.\u001b[0m\u001b[0msleep\u001b[0m\u001b[0;34m(\u001b[0m\u001b[0mrandom\u001b[0m\u001b[0;34m.\u001b[0m\u001b[0mrandint\u001b[0m\u001b[0;34m(\u001b[0m\u001b[0;36m5\u001b[0m\u001b[0;34m,\u001b[0m\u001b[0;36m30\u001b[0m\u001b[0;34m)\u001b[0m\u001b[0;34m)\u001b[0m\u001b[0;34m\u001b[0m\u001b[0m\n\u001b[0m\u001b[1;32m     69\u001b[0m \u001b[0;34m\u001b[0m\u001b[0m\n\u001b[1;32m     70\u001b[0m     \u001b[0;32mpass\u001b[0m\u001b[0;34m\u001b[0m\u001b[0m\n",
      "\u001b[0;31mKeyboardInterrupt\u001b[0m: "
     ]
    }
   ],
   "source": [
    "scrape_meta(51, 1001)"
   ]
  },
  {
   "cell_type": "code",
   "execution_count": null,
   "metadata": {
    "collapsed": true
   },
   "outputs": [],
   "source": []
  },
  {
   "cell_type": "code",
   "execution_count": null,
   "metadata": {
    "collapsed": true
   },
   "outputs": [],
   "source": []
  },
  {
   "cell_type": "code",
   "execution_count": null,
   "metadata": {
    "collapsed": true
   },
   "outputs": [],
   "source": []
  }
 ],
 "metadata": {
  "kernelspec": {
   "display_name": "Python 3",
   "language": "python",
   "name": "python3"
  },
  "language_info": {
   "codemirror_mode": {
    "name": "ipython",
    "version": 3
   },
   "file_extension": ".py",
   "mimetype": "text/x-python",
   "name": "python",
   "nbconvert_exporter": "python",
   "pygments_lexer": "ipython3",
   "version": "3.6.1"
  }
 },
 "nbformat": 4,
 "nbformat_minor": 2
}
