{
 "cells": [
  {
   "cell_type": "code",
   "execution_count": 12,
   "metadata": {
    "collapsed": true
   },
   "outputs": [],
   "source": [
    "import re\n",
    "import pandas as pd\n",
    "from requests import get\n",
    "url = 'https://www.imdb.com/search/title/?title_type=feature&release_date=2018-01-01,2018-12-31&start=51&ref_=adv_nxt'\n",
    "response = get(url)\n"
   ]
  },
  {
   "cell_type": "code",
   "execution_count": 13,
   "metadata": {
    "collapsed": true
   },
   "outputs": [],
   "source": [
    "from bs4 import BeautifulSoup\n",
    "html_soup = BeautifulSoup(response.text, 'html.parser')\n",
    "movie_containers = html_soup.find_all('div', class_ = 'lister-item mode-advanced')"
   ]
  },
  {
   "cell_type": "code",
   "execution_count": 14,
   "metadata": {
    "collapsed": true
   },
   "outputs": [],
   "source": [
    "df = pd.DataFrame(columns = ['Film title', 'Imdb 2018 list number', 'Year released', 'Runtime', 'Imdb Score', 'Metascore', 'Genres', 'MPAA rating', 'Director(s)', 'Actor(s)', 'Votes', 'Gross'])"
   ]
  },
  {
   "cell_type": "code",
   "execution_count": 15,
   "metadata": {
    "collapsed": true
   },
   "outputs": [],
   "source": [
    "def names(container):\n",
    "    name_list = []\n",
    "    for elem in container(text=re.compile(r'Director')):\n",
    "        if elem:\n",
    "            name_list = elem.parent.text\n",
    "\n",
    "            names = name_list.split('\\n')\n",
    "            names = [i for i in names if i] \n",
    "        \n",
    "        \n",
    "            names_s = []\n",
    "            for name in names: \n",
    "                name_s = name.strip()\n",
    "                name_s = name_s.strip(\",\")\n",
    "                names_s.append(name_s)  \n",
    "                names_s = [i for i in names_s if \"|\" not in i] \n",
    "\n",
    "            star_ind = names_s.index('Stars:')\n",
    "            if star_ind:\n",
    "                stars = names_s[star_ind + 1:len(names_s)]\n",
    "            \n",
    "                if names_s[0][0:8] == 'Director':\n",
    "                    director_s = names_s[1:star_ind ]\n",
    "\n",
    "    \n",
    "        \n",
    "    return director_s, stars    \n",
    "\n"
   ]
  },
  {
   "cell_type": "code",
   "execution_count": 16,
   "metadata": {
    "collapsed": true
   },
   "outputs": [],
   "source": [
    "def vote_gross(container):\n",
    "    gross_tot = None\n",
    "    votes = container.find('p', class_ = 'sort-num_votes-visible')\n",
    "    if votes:\n",
    "        votes = votes.text\n",
    "        votes = votes.replace('\\n', ' ')\n",
    "        votes = votes.replace('|', '')\n",
    "        votes = votes.strip(\" \")\n",
    "        votes = votes.split(\" \")\n",
    "        votes = [i for i in votes if i]\n",
    "        if votes[0] == 'Votes:':\n",
    "                vote_s = votes[1]\n",
    "        if len(votes) > 2:\n",
    "            if votes[2] == 'Gross:':\n",
    "                gross_tot = votes[3]\n",
    "         \n",
    "    return  vote_s, gross_tot  "
   ]
  },
  {
   "cell_type": "code",
   "execution_count": null,
   "metadata": {
    "collapsed": true
   },
   "outputs": [],
   "source": []
  },
  {
   "cell_type": "code",
   "execution_count": 26,
   "metadata": {
    "collapsed": true
   },
   "outputs": [],
   "source": [
    "\n",
    "for container in movie_containers:\n",
    "    data = []\n",
    "    title = container.h3.a\n",
    "    if title:\n",
    "        data.append(title.text)\n",
    "    else:\n",
    "        data.append(None)\n",
    "        \n",
    "    list_number = container.find('span', class_ = 'lister-item-index unbold text-primary')\n",
    "    if list_number:\n",
    "        data.append(int(list_number.text.strip(\".\")))   \n",
    "    else:\n",
    "        data.append(None)\n",
    "    \n",
    "    year = container.h3.find('span', class_ = 'lister-item-year text-muted unbold')\n",
    "    if year:\n",
    "        \n",
    "        data.append(year.text.strip(\"()\"))\n",
    "    else:\n",
    "        data.append(None)\n",
    "                    \n",
    "    runtime = container.find('span', class_ = 'runtime')\n",
    "    if runtime:\n",
    "        data.append(runtime.text.strip(\"()\"))\n",
    "    else:\n",
    "        data.append(None)\n",
    "                    \n",
    "    imdb_sc = container.strong\n",
    "    if imdb_sc:\n",
    "        data.append(float(imdb_sc.text.strip(\"()\")))\n",
    "    else:\n",
    "        data.append(None)\n",
    "                    \n",
    "    mscore = container.find('span', class_ = 'metascore favorable')\n",
    "    if mscore:\n",
    "        data.append(int(mscore.text))\n",
    "    else:\n",
    "        data.append(None)                \n",
    "                    \n",
    "    genres = container.find('span', class_ = 'genre')\n",
    "    if genres:\n",
    "        data.append(genres.text.strip(\"\\n\"))\n",
    "    else:\n",
    "        data.append(None)                \n",
    "                    \n",
    "    MPAA_rating = container.find('span', class_ = 'certificate')\n",
    "    if MPAA_rating:\n",
    "        data.append(MPAA_rating.text)\n",
    "    else:\n",
    "        data.append(None)    \n",
    "    \n",
    "    \n",
    "    director, star = names(container)\n",
    "    if director:\n",
    "        data.append(director)\n",
    "    else:\n",
    "        data.append(None)\n",
    "                    \n",
    "    if star:\n",
    "        data.append(star)\n",
    "    else:\n",
    "        data.append(None)                \n",
    "                    \n",
    "    \n",
    "    votes, gross = vote_gross(container)\n",
    "                    \n",
    "    if votes:\n",
    "        data.append(votes)            \n",
    "    else:\n",
    "        data.append(None)\n",
    "                    \n",
    "    if gross:\n",
    "        data.append(gross)                \n",
    "    else:\n",
    "        data.append(None)\n",
    "                    \n",
    "    \n",
    "    df2 =  pd.DataFrame([data], columns = ['Film title', 'Imdb 2018 list number', 'Year released', 'Runtime', 'Imdb Score', 'Metascore', 'Genres', 'MPAA rating', 'Director(s)', 'Actor(s)', 'Votes', 'Gross'])              \n",
    "    df = df.append(df2)\n",
    "   \n",
    "    "
   ]
  },
  {
   "cell_type": "code",
   "execution_count": 1,
   "metadata": {
    "collapsed": true
   },
   "outputs": [],
   "source": [
    "def names(container):\n",
    "    name_list = []\n",
    "    for elem in container(text=re.compile(r'Director')):\n",
    "        if elem:\n",
    "            name_list = elem.parent.text\n",
    "\n",
    "            names = name_list.split('\\n')\n",
    "            names = [i for i in names if i] \n",
    "        \n",
    "        \n",
    "            names_s = []\n",
    "            for name in names: \n",
    "                name_s = name.strip()\n",
    "                name_s = name_s.strip(\",\")\n",
    "                names_s.append(name_s)  \n",
    "                names_s = [i for i in names_s if \"|\" not in i] \n",
    "\n",
    "            if names_s[0][0:8] == 'Director':\n",
    "                    director = names_s[1]\n",
    "            if 'Stars:' in names_s:\n",
    "                star_ind = names_s.index('Stars:')\n",
    "                if star_ind:\n",
    "                    star = names_s[star_ind + 1]\n",
    "            \n",
    "                \n",
    "\n",
    "    \n",
    "        \n",
    "    return director, star    \n",
    "\n"
   ]
  },
  {
   "cell_type": "code",
   "execution_count": 25,
   "metadata": {
    "collapsed": true
   },
   "outputs": [],
   "source": [
    "def vote_gross(container):\n",
    "    gross_tot = None\n",
    "    votes = container.find('p', class_ = 'sort-num_votes-visible')\n",
    "    if votes:\n",
    "        votes = votes.text\n",
    "        votes = votes.replace('\\n', ' ')\n",
    "        votes = votes.replace('|', '')\n",
    "        votes = votes.strip(\" \")\n",
    "        votes = votes.split(\" \")\n",
    "        votes = [i for i in votes if i]\n",
    "        if votes[0] == 'Votes:':\n",
    "                vote_s = int(votes[1].replace(',', ''))\n",
    "        if len(votes) > 2:\n",
    "            if votes[2] == 'Gross:':\n",
    "                gross_tot = votes[3]\n",
    "         \n",
    "    return  vote_s, gross_tot   \n",
    "       "
   ]
  },
  {
   "cell_type": "code",
   "execution_count": 27,
   "metadata": {},
   "outputs": [
    {
     "data": {
      "text/html": [
       "<div>\n",
       "<style>\n",
       "    .dataframe thead tr:only-child th {\n",
       "        text-align: right;\n",
       "    }\n",
       "\n",
       "    .dataframe thead th {\n",
       "        text-align: left;\n",
       "    }\n",
       "\n",
       "    .dataframe tbody tr th {\n",
       "        vertical-align: top;\n",
       "    }\n",
       "</style>\n",
       "<table border=\"1\" class=\"dataframe\">\n",
       "  <thead>\n",
       "    <tr style=\"text-align: right;\">\n",
       "      <th></th>\n",
       "      <th>Film title</th>\n",
       "      <th>Imdb 2018 list number</th>\n",
       "      <th>Year released</th>\n",
       "      <th>Runtime</th>\n",
       "      <th>Imdb Score</th>\n",
       "      <th>Metascore</th>\n",
       "      <th>Genres</th>\n",
       "      <th>MPAA rating</th>\n",
       "      <th>Director(s)</th>\n",
       "      <th>Actor(s)</th>\n",
       "      <th>Votes</th>\n",
       "      <th>Gross</th>\n",
       "    </tr>\n",
       "  </thead>\n",
       "  <tbody>\n",
       "    <tr>\n",
       "      <th>0</th>\n",
       "      <td>Nekrotronic</td>\n",
       "      <td>96</td>\n",
       "      <td>2018</td>\n",
       "      <td>99 min</td>\n",
       "      <td>5.5</td>\n",
       "      <td>None</td>\n",
       "      <td>Comedy, Horror, Sci-Fi</td>\n",
       "      <td>R</td>\n",
       "      <td>Kiah Roache-Turner</td>\n",
       "      <td>Ben O'Toole</td>\n",
       "      <td>698</td>\n",
       "      <td>None</td>\n",
       "    </tr>\n",
       "    <tr>\n",
       "      <th>0</th>\n",
       "      <td>To All the Boys I've Loved Before</td>\n",
       "      <td>97</td>\n",
       "      <td>2018</td>\n",
       "      <td>99 min</td>\n",
       "      <td>7.2</td>\n",
       "      <td>64</td>\n",
       "      <td>Drama, Romance</td>\n",
       "      <td>TV-14</td>\n",
       "      <td>Susan Johnson</td>\n",
       "      <td>Lana Condor</td>\n",
       "      <td>67090</td>\n",
       "      <td>None</td>\n",
       "    </tr>\n",
       "    <tr>\n",
       "      <th>0</th>\n",
       "      <td>Replicas</td>\n",
       "      <td>98</td>\n",
       "      <td>2018</td>\n",
       "      <td>107 min</td>\n",
       "      <td>5.5</td>\n",
       "      <td>None</td>\n",
       "      <td>Drama, Sci-Fi, Thriller</td>\n",
       "      <td>PG-13</td>\n",
       "      <td>Jeffrey Nachmanoff</td>\n",
       "      <td>Keanu Reeves</td>\n",
       "      <td>21335</td>\n",
       "      <td>$4.05M</td>\n",
       "    </tr>\n",
       "    <tr>\n",
       "      <th>0</th>\n",
       "      <td>Fifty Shades Freed</td>\n",
       "      <td>99</td>\n",
       "      <td>2018</td>\n",
       "      <td>105 min</td>\n",
       "      <td>4.5</td>\n",
       "      <td>None</td>\n",
       "      <td>Drama, Romance, Thriller</td>\n",
       "      <td>R</td>\n",
       "      <td>James Foley</td>\n",
       "      <td>Dakota Johnson</td>\n",
       "      <td>45707</td>\n",
       "      <td>$100.41M</td>\n",
       "    </tr>\n",
       "    <tr>\n",
       "      <th>0</th>\n",
       "      <td>Nightmare Cinema</td>\n",
       "      <td>100</td>\n",
       "      <td>2018</td>\n",
       "      <td>119 min</td>\n",
       "      <td>5.4</td>\n",
       "      <td>None</td>\n",
       "      <td>Horror</td>\n",
       "      <td>R</td>\n",
       "      <td>Alejandro Brugués</td>\n",
       "      <td>Mickey Rourke</td>\n",
       "      <td>1377</td>\n",
       "      <td>None</td>\n",
       "    </tr>\n",
       "  </tbody>\n",
       "</table>\n",
       "</div>"
      ],
      "text/plain": [
       "                          Film title Imdb 2018 list number Year released  \\\n",
       "0                        Nekrotronic                    96          2018   \n",
       "0  To All the Boys I've Loved Before                    97          2018   \n",
       "0                           Replicas                    98          2018   \n",
       "0                 Fifty Shades Freed                    99          2018   \n",
       "0                   Nightmare Cinema                   100          2018   \n",
       "\n",
       "   Runtime  Imdb Score Metascore                                Genres  \\\n",
       "0   99 min         5.5      None    Comedy, Horror, Sci-Fi               \n",
       "0   99 min         7.2        64            Drama, Romance               \n",
       "0  107 min         5.5      None   Drama, Sci-Fi, Thriller               \n",
       "0  105 min         4.5      None  Drama, Romance, Thriller               \n",
       "0  119 min         5.4      None                    Horror               \n",
       "\n",
       "  MPAA rating         Director(s)        Actor(s)  Votes     Gross  \n",
       "0           R  Kiah Roache-Turner     Ben O'Toole    698      None  \n",
       "0       TV-14       Susan Johnson     Lana Condor  67090      None  \n",
       "0       PG-13  Jeffrey Nachmanoff    Keanu Reeves  21335    $4.05M  \n",
       "0           R         James Foley  Dakota Johnson  45707  $100.41M  \n",
       "0           R   Alejandro Brugués   Mickey Rourke   1377      None  "
      ]
     },
     "execution_count": 27,
     "metadata": {},
     "output_type": "execute_result"
    }
   ],
   "source": [
    "df.tail()"
   ]
  },
  {
   "cell_type": "code",
   "execution_count": 7,
   "metadata": {},
   "outputs": [
    {
     "data": {
      "text/plain": [
       "2900999"
      ]
     },
     "execution_count": 7,
     "metadata": {},
     "output_type": "execute_result"
    }
   ],
   "source": [
    "x = '2,900,999'\n",
    "int(x.replace(',', ''))"
   ]
  },
  {
   "cell_type": "code",
   "execution_count": 8,
   "metadata": {},
   "outputs": [
    {
     "ename": "SyntaxError",
     "evalue": "EOL while scanning string literal (<ipython-input-8-d0cc177e0f72>, line 1)",
     "output_type": "error",
     "traceback": [
      "\u001b[0;36m  File \u001b[0;32m\"<ipython-input-8-d0cc177e0f72>\"\u001b[0;36m, line \u001b[0;32m1\u001b[0m\n\u001b[0;31m    x = '2018''\u001b[0m\n\u001b[0m               ^\u001b[0m\n\u001b[0;31mSyntaxError\u001b[0m\u001b[0;31m:\u001b[0m EOL while scanning string literal\n"
     ]
    }
   ],
   "source": [
    "x = '2018''"
   ]
  }
 ],
 "metadata": {
  "kernelspec": {
   "display_name": "Python 3",
   "language": "python",
   "name": "python3"
  },
  "language_info": {
   "codemirror_mode": {
    "name": "ipython",
    "version": 3
   },
   "file_extension": ".py",
   "mimetype": "text/x-python",
   "name": "python",
   "nbconvert_exporter": "python",
   "pygments_lexer": "ipython3",
   "version": "3.6.1"
  }
 },
 "nbformat": 4,
 "nbformat_minor": 2
}
