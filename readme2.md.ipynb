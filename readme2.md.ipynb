{
 "cells": [
  {
   "cell_type": "markdown",
   "metadata": {},
   "source": [
    "Built and tested pipeline \n",
    "\n",
    "a lot of string manipulation\n",
    "\n",
    "Troubleshoot and alter code and sometimes the data types of sql db columns to solve errors such as not enough chars in column to store data and adding more conditions to avoid index out of range errors and Nonetype errors\n",
    "\n",
    "Unbound local variables issues - change to global variables\n",
    "\n",
    "IMDB url changes after 10,000 films so don’t have the 1,827 least popular of 2018\n",
    "\n",
    "EDA find gaps in primary key imdb_num and fill them\n",
    "Wrote code to go through output of sql query returning a list of tuples containing each imdb_num and subtract the imdb_num of entries with adjacent indices and find those that differ by more than one to identify gaps\n",
    "\n",
    "Edited code to capture remaining gaps in imdb_num\n",
    "\n",
    "Started EDA with psql\n",
    "\n",
    "select width_bucket(imdb_score, 1, 10, 100) as buckets,\n",
    "         count(*)\n",
    "    from imdb2018\n",
    "group by buckets\n",
    "order by buckets;\n",
    "\n",
    "\n",
    "Created histogram functions for psql using scripts from https://wiki.postgresql.org/wiki/Aggregate_Histogram   \n",
    "\n",
    "films=# select count(*) from imdb2018 where imdb_score is NULL;\n",
    " count \n",
    "-------\n",
    "  3527\n",
    "(1 row)\n",
    "\n",
    "films=# select count(*) from imdb2018 where imdb_score is NOT NULL;\n",
    " count \n",
    "-------\n",
    "  6173\n",
    "(1 row)\n",
    "\n",
    "Compute sigma and mu for all imdb scores, next do this for metascore etc. Genres. And partion by degrees of 'popularity.'"
   ]
  }
 ],
 "metadata": {
  "kernelspec": {
   "display_name": "Python 3",
   "language": "python",
   "name": "python3"
  },
  "language_info": {
   "codemirror_mode": {
    "name": "ipython",
    "version": 3
   },
   "file_extension": ".py",
   "mimetype": "text/x-python",
   "name": "python",
   "nbconvert_exporter": "python",
   "pygments_lexer": "ipython3",
   "version": "3.6.1"
  }
 },
 "nbformat": 4,
 "nbformat_minor": 2
}
